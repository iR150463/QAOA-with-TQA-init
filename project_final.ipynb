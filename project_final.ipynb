{
 "cells": [
  {
   "cell_type": "code",
   "execution_count": 16,
   "metadata": {},
   "outputs": [],
   "source": [
    "import networkx as nx\n",
    "import matplotlib.pyplot as plt\n",
    "from itertools import product\n",
    "import numpy as np\n",
    "from scipy.optimize import minimize\n",
    "\n",
    "from qiskit import QuantumCircuit, Aer, execute"
   ]
  },
  {
   "cell_type": "markdown",
   "metadata": {
    "tags": [
     "remove_cell"
    ]
   },
   "source": [
    "# QAOA With TQA Initialization - With Qiskit"
   ]
  },
  {
   "cell_type": "markdown",
   "metadata": {},
   "source": [
    "In this tutorial, we introduce combinatorial optimization problems, explain approximate optimization algorithms, explain how the Quantum Approximate Optimization Algorithm (QAOA) works and present the implementation of an example that can be run on a simulator or on a real quantum system."
   ]
  },
  {
   "cell_type": "code",
   "execution_count": 2,
   "metadata": {},
   "outputs": [],
   "source": [
    "def maxcut_obj(x, G):\n",
    "    obj = 0\n",
    "    for i, j in G.edges():\n",
    "        if x[i] != x[j]:\n",
    "            obj -= 1\n",
    "            \n",
    "    return obj\n",
    "\n",
    "\n",
    "def compute_expectation(counts, G):\n",
    "    \"\"\"\n",
    "    A classical way to approximate cost function.\n",
    "    Provided by qiskit. This is not contained in our project.\n",
    "    More details in qiskit textbook.\n",
    "    \"\"\"\n",
    "    avg = 0\n",
    "    sum_count = 0\n",
    "    for bitstring, count in counts.items():\n",
    "        \n",
    "        obj = maxcut_obj(bitstring, G)\n",
    "        avg += obj * count\n",
    "        sum_count += count\n",
    "        \n",
    "    return avg/sum_count\n",
    "\n",
    "def create_qaoa_circ(G, theta):\n",
    "    \"\"\"\n",
    "    Create the quantum circuit part of QAOA.\n",
    "    theta: [beta_0, beta_1, ..., beta_p, gamma_0, gamma_1, ..., gamma_p]\n",
    "    \"\"\"\n",
    "    nqubits = len(G.nodes())\n",
    "    p = len(theta)//2  # number of alternating unitaries\n",
    "    qc = QuantumCircuit(nqubits)\n",
    "    \n",
    "    beta = theta[:p]\n",
    "    gamma = theta[p:]\n",
    "    \n",
    "    # initial_state\n",
    "    for i in range(0, nqubits):\n",
    "        qc.h(i)\n",
    "    \n",
    "    for irep in range(0, p):\n",
    "        # problem unitary\n",
    "        for pair in list(G.edges()):\n",
    "            qc.rzz(2 * gamma[irep], pair[0], pair[1])\n",
    "        \n",
    "        # mixer unitary\n",
    "        for i in range(0, nqubits):\n",
    "            qc.rx(2 * beta[irep], i)\n",
    "            \n",
    "    qc.measure_all()\n",
    "        \n",
    "    return qc\n",
    "\n",
    "#def get_expectation(G, p, shots=512):\n",
    "#    \"\"\"\n",
    "#    Cost function provided by qiskit. \n",
    "#    It is not included in our project.\n",
    "#    \"\"\"\n",
    "#    \n",
    "#    backend = Aer.get_backend('qasm_simulator')\n",
    "#    backend.shots = shots\n",
    "#    \n",
    "#    def execute_circ(theta):\n",
    "#        \n",
    "#        qc = create_qaoa_circ(G, theta)\n",
    "#        counts = backend.run(qc, seed_simulator=10, \n",
    "#                             nshots=512).result().get_counts()\n",
    "#        \n",
    "#        return compute_expectation(counts, G)\n",
    "#    \n",
    "#    return execute_circ"
   ]
  },
  {
   "cell_type": "code",
   "execution_count": 3,
   "metadata": {},
   "outputs": [],
   "source": [
    "def compute_expectation(state):\n",
    "    return np.real(np.vdot(state, H_C() * state))"
   ]
  },
  {
   "cell_type": "code",
   "execution_count": 4,
   "metadata": {},
   "outputs": [],
   "source": [
    "def get_expectation(G, shots=512):\n",
    "    backend = Aer.get_backend(\"statevector_simulator\")\n",
    "    \n",
    "    def execute_circ(theta):\n",
    "        qaoa_circuit = create_qaoa_circ(G, theta)\n",
    "        result = execute(qaoa_circuit, backend).result()\n",
    "        statevector = np.array(result.get_statevector(qaoa_circuit))\n",
    "        \n",
    "        return compute_expectation(statevector)\n",
    "    \n",
    "    return execute_circ"
   ]
  },
  {
   "cell_type": "markdown",
   "metadata": {
    "tags": []
   },
   "source": [
    "# The Problem"
   ]
  },
  {
   "cell_type": "code",
   "execution_count": 66,
   "metadata": {},
   "outputs": [
    {
     "data": {
      "image/png": "[encoded data removed]",
      "text/plain": [
       "<Figure size 432x288 with 1 Axes>"
      ]
     },
     "metadata": {},
     "output_type": "display_data"
    }
   ],
   "source": [
    "G = nx.Graph()\n",
    "G.add_nodes_from([0, 1, 2, 3])\n",
    "G.add_edges_from([(0, 1), (1, 2), (2, 3), (3, 0)])\n",
    "\n",
    "N = 4\n",
    "p = 2\n",
    "edges = nx.edge_betweenness(G).keys()\n",
    "\n",
    "nx.draw(G, with_labels=True, alpha=0.8, node_size=500)"
   ]
  },
  {
   "cell_type": "code",
   "execution_count": 6,
   "metadata": {},
   "outputs": [],
   "source": [
    "## Set everything up and show the graph\n",
    "#N = 12\n",
    "#seed = 43\n",
    "#G = nx.random_regular_graph(d=3, n=N, seed=seed)\n",
    "#nx.draw(G)"
   ]
  },
  {
   "cell_type": "code",
   "execution_count": 67,
   "metadata": {},
   "outputs": [],
   "source": [
    "H = np.array(list(product([1, -1], repeat=N))) \n",
    "def H_C():\n",
    "    tmp = np.zeros(2**N)\n",
    "    for i, j in edges:\n",
    "        tmp += H[:, i] * H[:, j]\n",
    "    return tmp"
   ]
  },
  {
   "cell_type": "markdown",
   "metadata": {
    "jp-MarkdownHeadingCollapsed": true,
    "tags": []
   },
   "source": [
    "# Find Initial Value By Simulating TQA"
   ]
  },
  {
   "cell_type": "code",
   "execution_count": 11,
   "metadata": {},
   "outputs": [],
   "source": [
    "# Loop over different evolution times\n",
    "time = np.linspace(0.1, 4, 50)\n",
    "energy_expectation_value = get_expectation(G, shots=512)\n",
    "\n",
    "energies = []\n",
    "for p in [3, 4]:\n",
    "    energy = []\n",
    "    for t_max in time: \n",
    "        \n",
    "        dt = t_max / p\n",
    "        t = dt * (np.arange(1, p + 1) - 0.5)\n",
    "        gamma = (t / t_max) * dt\n",
    "        beta = (1 - (t / t_max)) * dt\n",
    "        x = np.concatenate((beta, gamma))\n",
    "        energy.append(energy_expectation_value(x))\n",
    "\n",
    "    energies.append(energy)"
   ]
  },
  {
   "cell_type": "code",
   "execution_count": 12,
   "metadata": {},
   "outputs": [
    {
     "data": {
      "text/plain": [
       "<matplotlib.legend.Legend at 0x7f7a52d01a00>"
      ]
     },
     "execution_count": 12,
     "metadata": {},
     "output_type": "execute_result"
    },
    {
     "data": {
      "image/png": "[encoded data removed]",
      "text/plain": [
       "<Figure size 432x288 with 1 Axes>"
      ]
     },
     "metadata": {
      "needs_background": "light"
     },
     "output_type": "display_data"
    }
   ],
   "source": [
    "plt.plot(time, energies[0]/min(H_C()), label=\"p=3\")\n",
    "plt.plot(time, energies[1]/min(H_C()), label=\"p=4\")\n",
    "plt.xlabel('Time')\n",
    "plt.ylabel('Approximation ratio')\n",
    "plt.legend(frameon=False)"
   ]
  },
  {
   "cell_type": "code",
   "execution_count": 13,
   "metadata": {},
   "outputs": [
    {
     "name": "stdout",
     "output_type": "stream",
     "text": [
      "Optimal evolution time is 0.17959183673469387 with an approximation ratio of 1.0\n"
     ]
    }
   ],
   "source": [
    "# Find optimal time \n",
    "idx = np.argmin(energies[1])\n",
    "t_max = time[idx]\n",
    "print(f'Optimal evolution time is {t_max} with an approximation ratio of {energies[1][idx]/min(H_C())}')"
   ]
  },
  {
   "cell_type": "markdown",
   "metadata": {},
   "source": [
    "## Note\n",
    "We tried to use the code from what you've seen to get the optimal evolution time.\n",
    "However, it is not usable nor correct, thus we use the same process as the code from TQAinit.ipynb, then get the optimal evolution time from it."
   ]
  },
  {
   "cell_type": "code",
   "execution_count": 43,
   "metadata": {},
   "outputs": [],
   "source": [
    "t_max = 2.973684210526316"
   ]
  },
  {
   "cell_type": "markdown",
   "metadata": {
    "tags": []
   },
   "source": [
    "# Execute The QAOA"
   ]
  },
  {
   "cell_type": "code",
   "execution_count": 85,
   "metadata": {},
   "outputs": [
    {
     "data": {
      "text/plain": [
       "      fun: 0.0\n",
       " hess_inv: array([[1, 0, 0, 0],\n",
       "       [0, 1, 0, 0],\n",
       "       [0, 0, 1, 0],\n",
       "       [0, 0, 0, 1]])\n",
       "      jac: array([0., 0., 0., 0.])\n",
       "  message: 'Optimization terminated successfully.'\n",
       "     nfev: 5\n",
       "      nit: 0\n",
       "     njev: 1\n",
       "   status: 0\n",
       "  success: True\n",
       "        x: array([0.02729822, 0.77523389, 0.45448539, 0.23737106])"
      ]
     },
     "execution_count": 85,
     "metadata": {},
     "output_type": "execute_result"
    }
   ],
   "source": [
    "expectation = get_expectation(G)\n",
    "\n",
    "res1 = minimize(expectation, \n",
    "                      np.concatenate((np.random.uniform(-np.pi/4, np.pi/4, p), np.random.uniform(-np.pi/2, np.pi/2, p))), \n",
    "                      method='BFGS')\n",
    "res1"
   ]
  },
  {
   "cell_type": "code",
   "execution_count": 86,
   "metadata": {},
   "outputs": [
    {
     "name": "stdout",
     "output_type": "stream",
     "text": [
      "Final approximation ratio from random init. is -0.0\n"
     ]
    }
   ],
   "source": [
    "print(f'Final approximation ratio from random init. is {res1.fun/min(H_C())}')"
   ]
  },
  {
   "cell_type": "code",
   "execution_count": 79,
   "metadata": {},
   "outputs": [],
   "source": [
    "dt = t_max / p\n",
    "t = dt * (np.arange(1, p + 1) - 0.5)\n",
    "gamma = (t / t_max) * dt\n",
    "beta = (1 - (t / t_max)) * dt\n",
    "x0 = np.concatenate((beta, gamma))"
   ]
  },
  {
   "cell_type": "code",
   "execution_count": 80,
   "metadata": {},
   "outputs": [
    {
     "data": {
      "text/plain": [
       "     fun: -3.999999999999999\n",
       "   maxcv: 0.0\n",
       " message: 'Optimization terminated successfully.'\n",
       "    nfev: 42\n",
       "  status: 1\n",
       " success: True\n",
       "       x: array([1.35697671, 0.2466389 , 0.37165533, 1.05193401])"
      ]
     },
     "execution_count": 80,
     "metadata": {},
     "output_type": "execute_result"
    }
   ],
   "source": [
    "from scipy.optimize import minimize\n",
    "\n",
    "expectation = get_expectation(G)\n",
    "\n",
    "res2 = minimize(expectation, \n",
    "                      x0, \n",
    "                      method='COBYLA')\n",
    "res2"
   ]
  },
  {
   "cell_type": "code",
   "execution_count": 81,
   "metadata": {},
   "outputs": [
    {
     "name": "stdout",
     "output_type": "stream",
     "text": [
      "Final approximation ratio from TQA init. is 0.9999999999999998\n"
     ]
    }
   ],
   "source": [
    "print(f'Final approximation ratio from TQA init. is {res2.fun/min(H_C())}')"
   ]
  },
  {
   "cell_type": "markdown",
   "metadata": {},
   "source": [
    "### Analyzing the result"
   ]
  },
  {
   "cell_type": "code",
   "execution_count": 87,
   "metadata": {
    "tags": []
   },
   "outputs": [
    {
     "data": {
      "image/png": "[encoded data removed]",
      "text/plain": [
       "<Figure size 504x360 with 1 Axes>"
      ]
     },
     "execution_count": 87,
     "metadata": {},
     "output_type": "execute_result"
    }
   ],
   "source": [
    "from qiskit.visualization import plot_histogram\n",
    "\n",
    "backend = Aer.get_backend('aer_simulator')\n",
    "backend.shots = 512\n",
    "\n",
    "qc_res = create_qaoa_circ(G, res1.x)\n",
    "\n",
    "counts = backend.run(qc_res, seed_simulator=10).result().get_counts()\n",
    "\n",
    "plot_histogram(counts)"
   ]
  },
  {
   "cell_type": "code",
   "execution_count": 83,
   "metadata": {
    "tags": []
   },
   "outputs": [
    {
     "data": {
      "image/png": "[encoded data removed]",
      "text/plain": [
       "<Figure size 504x360 with 1 Axes>"
      ]
     },
     "execution_count": 83,
     "metadata": {},
     "output_type": "execute_result"
    }
   ],
   "source": [
    "from qiskit.visualization import plot_histogram\n",
    "\n",
    "backend = Aer.get_backend('aer_simulator')\n",
    "backend.shots = 512\n",
    "\n",
    "qc_res = create_qaoa_circ(G, res2.x)\n",
    "\n",
    "counts = backend.run(qc_res, seed_simulator=10).result().get_counts()\n",
    "\n",
    "plot_histogram(counts)"
   ]
  },
  {
   "cell_type": "markdown",
   "metadata": {},
   "source": [
    "As we notice that the bitstrings \"0101\" and \"1010\" have the highest probability and are indeed the assignments of the graph (we started with) that gives 4 edges between the two partitions. "
   ]
  },
  {
   "cell_type": "code",
   "execution_count": null,
   "metadata": {},
   "outputs": [],
   "source": [
    "import qiskit.tools.jupyter\n",
    "%qiskit_version_table"
   ]
  }
 ],
 "metadata": {
  "kernelspec": {
   "display_name": "Qiskit v0.34.1 (ipykernel)",
   "language": "python",
   "name": "python3"
  },
  "language_info": {
   "codemirror_mode": {
    "name": "ipython",
    "version": 3
   },
   "file_extension": ".py",
   "mimetype": "text/x-python",
   "name": "python",
   "nbconvert_exporter": "python",
   "pygments_lexer": "ipython3",
   "version": "3.8.10"
  },
  "widgets": {
   "application/vnd.jupyter.widget-state+json": {
    "state": {},
    "version_major": 2,
    "version_minor": 0
   }
  }
 },
 "nbformat": 4,
 "nbformat_minor": 4
}
